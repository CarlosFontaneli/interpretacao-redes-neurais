{
 "cells": [
  {
   "cell_type": "code",
   "execution_count": 92,
   "metadata": {},
   "outputs": [],
   "source": [
    "import torch\n",
    "import torch.nn as nn\n",
    "import torch.optim as optim\n",
    "import torchvision\n",
    "import torchvision.transforms as transforms\n",
    "from torchvision.models import resnet18\n",
    "import torch.nn.functional as F\n",
    "import matplotlib.pyplot as plt\n",
    "from matplotlib.colors import LinearSegmentedColormap\n",
    "\n",
    "from PIL import Image\n",
    "import matplotlib.pyplot as plt\n",
    "import torch\n",
    "import numpy as np\n",
    "\n",
    "from captum.attr import IntegratedGradients\n",
    "from captum.attr import GradientShap\n",
    "from captum.attr import Occlusion\n",
    "from captum.attr import NoiseTunnel\n",
    "from captum.attr import visualization as viz\n",
    "\n",
    "import os\n",
    "import random"
   ]
  },
  {
   "cell_type": "code",
   "execution_count": 93,
   "metadata": {},
   "outputs": [],
   "source": [
    "# Default device plus free memory\n",
    "torch.cuda.empty_cache()\n",
    "device = \"cpu\"\n",
    "#device = torch.device(\"cuda:0\" if torch.cuda.is_available() else \"cpu\")"
   ]
  },
  {
   "cell_type": "code",
   "execution_count": 94,
   "metadata": {},
   "outputs": [
    {
     "data": {
      "text/plain": [
       "\" # Modify ResNet-18 for MNIST\\nmodel = resnet18(pretrained=False)\\n# Change the input layer to accept grayscale images\\nmodel.conv1 = nn.Conv2d(1, 64, kernel_size=(7, 7), stride=(2, 2), padding=(3, 3), bias=False)\\n# Adjust the final layer to output 10 classes\\nmodel.fc = nn.Linear(model.fc.in_features, 10)\\n\\n# Load the saved state_dict\\nmodel.load_state_dict(torch.load('./Models/resnet18_mnist.pth'))\\n\\n# Move model to device and set to evaluation mode\\nmodel = model.to(device).eval() \""
      ]
     },
     "execution_count": 94,
     "metadata": {},
     "output_type": "execute_result"
    }
   ],
   "source": [
    "\"\"\" # Modify ResNet-18 for MNIST\n",
    "model = resnet18(pretrained=False)\n",
    "# Change the input layer to accept grayscale images\n",
    "model.conv1 = nn.Conv2d(1, 64, kernel_size=(7, 7), stride=(2, 2), padding=(3, 3), bias=False)\n",
    "# Adjust the final layer to output 10 classes\n",
    "model.fc = nn.Linear(model.fc.in_features, 10)\n",
    "\n",
    "# Load the saved state_dict\n",
    "model.load_state_dict(torch.load('./Models/resnet18_mnist.pth'))\n",
    "\n",
    "# Move model to device and set to evaluation mode\n",
    "model = model.to(device).eval() \"\"\""
   ]
  },
  {
   "cell_type": "code",
   "execution_count": 95,
   "metadata": {},
   "outputs": [],
   "source": [
    "class Net(nn.Module):\n",
    "    def __init__(self, chanels, kernel_size):\n",
    "        super(Net, self).__init__()\n",
    "        \n",
    "        # First block\n",
    "        self.conv1 = nn.Conv2d(1, chanels, kernel_size, padding=kernel_size//2)\n",
    "        self.bn1 = nn.BatchNorm2d(chanels)\n",
    "        self.relu1 = nn.ReLU()\n",
    "        self.pool1 = nn.MaxPool2d(2)\n",
    "        \n",
    "        # Second block\n",
    "        self.conv2 = nn.Conv2d(chanels, 2 * chanels, kernel_size, padding=kernel_size//2)\n",
    "        self.bn2 = nn.BatchNorm2d(2 * chanels)\n",
    "        self.relu2 = nn.ReLU()\n",
    "        self.pool2 = nn.MaxPool2d(2)\n",
    "        \n",
    "        # Third block\n",
    "        self.conv3 = nn.Conv2d(2*chanels, 4 * chanels, kernel_size, padding=kernel_size//2)\n",
    "        self.bn3 = nn.BatchNorm2d(4 * chanels)\n",
    "        self.relu3 = nn.ReLU()\n",
    "        self.pool3 = nn.MaxPool2d(2)\n",
    "        \n",
    "        # Fourth block (no pooling after this)\n",
    "        self.conv4 = nn.Conv2d(4*chanels, 8 * chanels, kernel_size, padding=kernel_size//2)\n",
    "        self.bn4 = nn.BatchNorm2d(8 * chanels)\n",
    "        self.relu4 = nn.ReLU()\n",
    "        \n",
    "        # Global Average Pooling\n",
    "        self.global_avg_pool = nn.AdaptiveAvgPool2d(1)\n",
    "\n",
    "        # Fully connected layers\n",
    "        self.fc1 = nn.Linear(8*chanels, 128)\n",
    "        self.drop1 = nn.Dropout(0.5)\n",
    "        self.fc2 = nn.Linear(128, 10)  # 10 classes for MNIST\n",
    "\n",
    "    def forward(self, x):\n",
    "        x = self.pool1(self.relu1(self.bn1(self.conv1(x))))\n",
    "        x = self.pool2(self.relu2(self.bn2(self.conv2(x))))\n",
    "        x = self.pool3(self.relu3(self.bn3(self.conv3(x))))\n",
    "        x = self.relu4(self.bn4(self.conv4(x)))\n",
    "        \n",
    "        x = self.global_avg_pool(x)\n",
    "        x = x.view(x.size(0), -1)  # Flatten the tensor\n",
    "\n",
    "        x = self.drop1(F.relu(self.fc1(x)))\n",
    "        x = self.fc2(x) \n",
    "        \n",
    "        return x"
   ]
  },
  {
   "cell_type": "code",
   "execution_count": 96,
   "metadata": {},
   "outputs": [
    {
     "data": {
      "text/plain": [
       "Net(\n",
       "  (conv1): Conv2d(1, 32, kernel_size=(3, 3), stride=(1, 1), padding=(1, 1))\n",
       "  (bn1): BatchNorm2d(32, eps=1e-05, momentum=0.1, affine=True, track_running_stats=True)\n",
       "  (relu1): ReLU()\n",
       "  (pool1): MaxPool2d(kernel_size=2, stride=2, padding=0, dilation=1, ceil_mode=False)\n",
       "  (conv2): Conv2d(32, 64, kernel_size=(3, 3), stride=(1, 1), padding=(1, 1))\n",
       "  (bn2): BatchNorm2d(64, eps=1e-05, momentum=0.1, affine=True, track_running_stats=True)\n",
       "  (relu2): ReLU()\n",
       "  (pool2): MaxPool2d(kernel_size=2, stride=2, padding=0, dilation=1, ceil_mode=False)\n",
       "  (conv3): Conv2d(64, 128, kernel_size=(3, 3), stride=(1, 1), padding=(1, 1))\n",
       "  (bn3): BatchNorm2d(128, eps=1e-05, momentum=0.1, affine=True, track_running_stats=True)\n",
       "  (relu3): ReLU()\n",
       "  (pool3): MaxPool2d(kernel_size=2, stride=2, padding=0, dilation=1, ceil_mode=False)\n",
       "  (conv4): Conv2d(128, 256, kernel_size=(3, 3), stride=(1, 1), padding=(1, 1))\n",
       "  (bn4): BatchNorm2d(256, eps=1e-05, momentum=0.1, affine=True, track_running_stats=True)\n",
       "  (relu4): ReLU()\n",
       "  (global_avg_pool): AdaptiveAvgPool2d(output_size=1)\n",
       "  (fc1): Linear(in_features=256, out_features=128, bias=True)\n",
       "  (drop1): Dropout(p=0.5, inplace=False)\n",
       "  (fc2): Linear(in_features=128, out_features=10, bias=True)\n",
       ")"
      ]
     },
     "execution_count": 96,
     "metadata": {},
     "output_type": "execute_result"
    }
   ],
   "source": [
    "# Instantiate the model\n",
    "chanels = 32\n",
    "kernel_size = 3\n",
    "model = Net(chanels, kernel_size)\n",
    "\n",
    "# Load the weights\n",
    "model.load_state_dict(torch.load(\"./Models/custom_cnn_mnist.pth\"))\n",
    "model.eval()  # Set the model to evaluation mode"
   ]
  },
  {
   "cell_type": "code",
   "execution_count": 97,
   "metadata": {},
   "outputs": [],
   "source": [
    "# Apply resize and normalization to the images\n",
    "transform = transforms.Compose([\n",
    "    # transforms.Resize((224, 224)), used for resnet18\n",
    "    transforms.ToTensor(),\n",
    "    transforms.Normalize((0.5,), (0.5,))\n",
    "])\n",
    "\n",
    "# Download the MNIST dataset\n",
    "test_dataset = torchvision.datasets.MNIST(root='./data', train=False, transform=transform, download=True)\n"
   ]
  },
  {
   "cell_type": "code",
   "execution_count": 98,
   "metadata": {},
   "outputs": [
    {
     "data": {
      "image/png": "[encoded data removed]",
      "text/plain": [
       "<Figure size 640x480 with 1 Axes>"
      ]
     },
     "metadata": {},
     "output_type": "display_data"
    }
   ],
   "source": [
    "# Fetch an image and its label\n",
    "image, label = test_dataset[0]  # This fetches the first image from the test set\n",
    "\n",
    "plt.imshow(image.squeeze(), cmap='gray')  # Since it's a grayscale image\n",
    "plt.title(f\"True Label: {label}\")\n",
    "plt.show()"
   ]
  },
  {
   "cell_type": "code",
   "execution_count": 99,
   "metadata": {},
   "outputs": [
    {
     "name": "stdout",
     "output_type": "stream",
     "text": [
      "Predicted Label: 7\n",
      "Confidence Score for the Predicted Label: 1.0000\n",
      "Probability Distribution over Classes: [4.783697309801438e-12, 9.887475727055062e-08, 1.3659799513732196e-08, 1.662241366773287e-08, 7.697855131105769e-10, 6.547402203738173e-11, 1.9011125952563684e-14, 0.9999998807907104, 6.377480574887295e-12, 5.7158761279652026e-08]\n"
     ]
    }
   ],
   "source": [
    "# Add batch dimension and run the model\n",
    "with torch.no_grad():\n",
    "    image = image.unsqueeze(0).to(device)  # Add batch dimension\n",
    "    output = model(image)\n",
    "    predicted_label = torch.argmax(output).item()\n",
    "    probabilities = F.softmax(output, dim=1)  # Apply softmax to get the probabilities\n",
    "    prediction_score = probabilities[0][predicted_label].item()  # Confidence score for the predicted label\n",
    "\n",
    "print(f\"Predicted Label: {predicted_label}\")\n",
    "print(f\"Confidence Score for the Predicted Label: {prediction_score:.4f}\")\n",
    "print(f\"Probability Distribution over Classes: {probabilities[0].tolist()}\")"
   ]
  },
  {
   "cell_type": "code",
   "execution_count": 100,
   "metadata": {},
   "outputs": [],
   "source": [
    "pred_label_idx = predicted_label\n",
    "transformed_img = image\n",
    "\n",
    "integrated_gradients = IntegratedGradients(model)\n",
    "attributions_ig = integrated_gradients.attribute(transformed_img, target=predicted_label, n_steps=200)"
   ]
  },
  {
   "cell_type": "code",
   "execution_count": 101,
   "metadata": {},
   "outputs": [
    {
     "name": "stdout",
     "output_type": "stream",
     "text": [
      "(28, 28)\n"
     ]
    },
    {
     "data": {
      "text/plain": [
       "(28, 28)"
      ]
     },
     "execution_count": 101,
     "metadata": {},
     "output_type": "execute_result"
    }
   ],
   "source": [
    "print(attributions_ig.squeeze().cpu().detach().numpy().shape)\n",
    "transformed_img.squeeze().cpu().detach().numpy().shape"
   ]
  },
  {
   "cell_type": "code",
   "execution_count": 102,
   "metadata": {},
   "outputs": [
    {
     "data": {
      "image/png": "[encoded data removed]",
      "text/plain": [
       "<Figure size 600x600 with 2 Axes>"
      ]
     },
     "metadata": {},
     "output_type": "display_data"
    }
   ],
   "source": [
    "from matplotlib.colors import LinearSegmentedColormap\n",
    "import numpy as np\n",
    "\n",
    "default_cmap = LinearSegmentedColormap.from_list(\n",
    "    'custom blue', \n",
    "    [(0, '#ffffff'),\n",
    "     (0.25, '#000000'),\n",
    "     (1, '#000000')],\n",
    "    N=256\n",
    ")\n",
    "\n",
    "attr_reshaped = attributions_ig.squeeze().cpu().detach().numpy().reshape(28, 28, 1)\n",
    "img_reshaped = transformed_img.squeeze().cpu().detach().numpy().reshape(28, 28, 1)\n",
    "\n",
    "_ = viz.visualize_image_attr(attr_reshaped,\n",
    "                             img_reshaped,\n",
    "                             method='heat_map',\n",
    "                             cmap=default_cmap,\n",
    "                             show_colorbar=True,\n",
    "                             sign='positive',\n",
    "                             outlier_perc=1)\n"
   ]
  },
  {
   "cell_type": "code",
   "execution_count": 103,
   "metadata": {},
   "outputs": [
    {
     "data": {
      "image/png": "[encoded data removed]",
      "text/plain": [
       "<Figure size 800x600 with 4 Axes>"
      ]
     },
     "metadata": {},
     "output_type": "display_data"
    }
   ],
   "source": [
    "noise_tunnel = NoiseTunnel(integrated_gradients)\n",
    "input = image\n",
    "\n",
    "attributions_ig_nt = noise_tunnel.attribute(input, nt_samples=10, nt_type='smoothgrad_sq', target=predicted_label)\n",
    "_ = viz.visualize_image_attr_multiple(attr_reshaped,\n",
    "                                      img_reshaped,\n",
    "                                      [\"original_image\", \"heat_map\"],\n",
    "                                      [\"all\", \"positive\"],\n",
    "                                      cmap=default_cmap,\n",
    "                                      show_colorbar=True)"
   ]
  },
  {
   "cell_type": "code",
   "execution_count": 104,
   "metadata": {},
   "outputs": [
    {
     "data": {
      "image/png": "[encoded data removed]",
      "text/plain": [
       "<Figure size 800x600 with 4 Axes>"
      ]
     },
     "metadata": {},
     "output_type": "display_data"
    }
   ],
   "source": [
    "torch.manual_seed(0)\n",
    "np.random.seed(0)\n",
    "input = image\n",
    "\n",
    "gradient_shap = GradientShap(model)\n",
    "\n",
    "# Defining baseline distribution of images\n",
    "rand_img_dist = torch.cat([input * 0, input * 1])\n",
    "\n",
    "attributions_gs = gradient_shap.attribute(input,\n",
    "                                          n_samples=50,\n",
    "                                          stdevs=0.0001,\n",
    "                                          baselines=rand_img_dist,\n",
    "                                          target=pred_label_idx)\n",
    "_ = viz.visualize_image_attr_multiple(attr_reshaped,\n",
    "                                      img_reshaped,\n",
    "                                      [\"original_image\", \"heat_map\"],\n",
    "                                      [\"all\", \"absolute_value\"],\n",
    "                                      cmap=default_cmap,\n",
    "                                      show_colorbar=True)"
   ]
  },
  {
   "cell_type": "code",
   "execution_count": 105,
   "metadata": {},
   "outputs": [],
   "source": [
    "occlusion = Occlusion(model)\n",
    "\n",
    "attributions_occ = occlusion.attribute(input,\n",
    "                                       strides = (1, 1, 1),\n",
    "                                       target=pred_label_idx,\n",
    "                                       sliding_window_shapes=(1,2, 2),\n",
    "                                       baselines=0)\n"
   ]
  },
  {
   "cell_type": "code",
   "execution_count": 106,
   "metadata": {},
   "outputs": [
    {
     "data": {
      "image/png": "[encoded data removed]",
      "text/plain": [
       "<Figure size 800x600 with 4 Axes>"
      ]
     },
     "metadata": {},
     "output_type": "display_data"
    }
   ],
   "source": [
    "_ = viz.visualize_image_attr_multiple(attr_reshaped,\n",
    "                                      img_reshaped,\n",
    "                                      [\"original_image\", \"heat_map\"],\n",
    "                                      [\"all\", \"positive\"],\n",
    "                                      show_colorbar=True,\n",
    "                                      outlier_perc=2,\n",
    "                                     )"
   ]
  },
  {
   "cell_type": "code",
   "execution_count": 107,
   "metadata": {},
   "outputs": [
    {
     "data": {
      "image/png": "[encoded data removed]",
      "text/plain": [
       "<Figure size 800x600 with 4 Axes>"
      ]
     },
     "metadata": {},
     "output_type": "display_data"
    }
   ],
   "source": [
    "occlusion = Occlusion(model)\n",
    "\n",
    "attributions_occ = occlusion.attribute(input,\n",
    "                                       strides = (1, 1, 1),\n",
    "                                       target=pred_label_idx,\n",
    "                                       sliding_window_shapes=(1,2, 2),\n",
    "                                       baselines=0)\n",
    "\n",
    "_ = viz.visualize_image_attr_multiple(attr_reshaped,\n",
    "                                      img_reshaped,\n",
    "                                      [\"original_image\", \"heat_map\"],\n",
    "                                      [\"all\", \"positive\"],\n",
    "                                      show_colorbar=True,\n",
    "                                      outlier_perc=2,\n",
    "                                     )"
   ]
  }
 ],
 "metadata": {
  "kernelspec": {
   "display_name": "torchtrainer",
   "language": "python",
   "name": "python3"
  },
  "language_info": {
   "codemirror_mode": {
    "name": "ipython",
    "version": 3
   },
   "file_extension": ".py",
   "mimetype": "text/x-python",
   "name": "python",
   "nbconvert_exporter": "python",
   "pygments_lexer": "ipython3",
   "version": "3.11.3"
  },
  "orig_nbformat": 4
 },
 "nbformat": 4,
 "nbformat_minor": 2
}
